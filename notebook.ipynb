{
 "cells": [
  {
   "cell_type": "markdown",
   "id": "495afc06",
   "metadata": {},
   "source": [
    "## Linear Regression implementation"
   ]
  },
  {
   "cell_type": "markdown",
   "id": "17d7536c",
   "metadata": {},
   "source": []
  }
 ],
 "metadata": {
  "language_info": {
   "name": "python"
  }
 },
 "nbformat": 4,
 "nbformat_minor": 5
}
